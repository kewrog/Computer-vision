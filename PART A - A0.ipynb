{
 "cells": [
  {
   "cell_type": "markdown",
   "id": "16922257",
   "metadata": {},
   "source": [
    "# Name: roger kewin samson\n",
    "# Hawk ID : A20563057\n",
    "# Course : CS512\n",
    "# semester : 4th semester"
   ]
  },
  {
   "cell_type": "code",
   "execution_count": 60,
   "id": "bfaf5a70",
   "metadata": {},
   "outputs": [],
   "source": [
    "import numpy as np\n"
   ]
  },
  {
   "cell_type": "code",
   "execution_count": 61,
   "id": "3647d45c",
   "metadata": {},
   "outputs": [],
   "source": [
    "p = np.array([[2], [-1], [4]])\n",
    "q = np.array([[0], [3], [5]])\n",
    "r = np.array([[1], [-2], [2]])"
   ]
  },
  {
   "cell_type": "markdown",
   "id": "a1b21f64",
   "metadata": {},
   "source": [
    "# 1. 3p + 2q\n"
   ]
  },
  {
   "cell_type": "code",
   "execution_count": 62,
   "id": "ba3851cf",
   "metadata": {},
   "outputs": [
    {
     "name": "stdout",
     "output_type": "stream",
     "text": [
      "[[ 6]\n",
      " [ 3]\n",
      " [22]]\n"
     ]
    }
   ],
   "source": [
    "result_1 = 3 * p + 2 * q\n",
    "print( result_1)"
   ]
  },
  {
   "cell_type": "markdown",
   "id": "9bf0f148",
   "metadata": {},
   "source": [
    "# 2. Unit vector in the direction of p\n"
   ]
  },
  {
   "cell_type": "code",
   "execution_count": 63,
   "id": "55edce99",
   "metadata": {},
   "outputs": [
    {
     "name": "stdout",
     "output_type": "stream",
     "text": [
      "[[ 0.43643578]\n",
      " [-0.21821789]\n",
      " [ 0.87287156]]\n"
     ]
    }
   ],
   "source": [
    "p_magnitude = np.linalg.norm(p)\n",
    "p_hat = p / p_magnitude\n",
    "print(p_hat)"
   ]
  },
  {
   "cell_type": "markdown",
   "id": "8830dbc9",
   "metadata": {},
   "source": [
    "# 3. Magnitude of p and angle with the positive y-axis\n"
   ]
  },
  {
   "cell_type": "code",
   "execution_count": 64,
   "id": "a044a59f",
   "metadata": {},
   "outputs": [
    {
     "name": "stdout",
     "output_type": "stream",
     "text": [
      "4.58257569495584\n",
      "[102.60438265]\n"
     ]
    }
   ],
   "source": [
    "p_magnitude = np.linalg.norm(p)\n",
    "angle_with_y_axis = np.degrees(np.arccos(p[1] / p_magnitude))\n",
    "print(p_magnitude)\n",
    "print(angle_with_y_axis)\n"
   ]
  },
  {
   "cell_type": "markdown",
   "id": "07141bbb",
   "metadata": {},
   "source": [
    "# 4. Direction cosines of p\n"
   ]
  },
  {
   "cell_type": "code",
   "execution_count": 65,
   "id": "61d654ee",
   "metadata": {},
   "outputs": [
    {
     "name": "stdout",
     "output_type": "stream",
     "text": [
      "[[ 0.43643578]\n",
      " [-0.21821789]\n",
      " [ 0.87287156]]\n"
     ]
    }
   ],
   "source": [
    "direction_cosines = p / p_magnitude\n",
    "print( direction_cosines)"
   ]
  },
  {
   "cell_type": "markdown",
   "id": "fd43a0ed",
   "metadata": {},
   "source": [
    "# 5. Angle between p and q\n"
   ]
  },
  {
   "cell_type": "code",
   "execution_count": 66,
   "id": "7945a1e6",
   "metadata": {},
   "outputs": [
    {
     "name": "stdout",
     "output_type": "stream",
     "text": [
      "50.490287713806076\n"
     ]
    }
   ],
   "source": [
    "dot_product_pq = np.dot(p.T, q)[0, 0]  # Transpose p to align for dot product\n",
    "angle_pq = np.degrees(np.arccos(dot_product_pq / (np.linalg.norm(p) * np.linalg.norm(q))))\n",
    "print( angle_pq)\n"
   ]
  },
  {
   "cell_type": "markdown",
   "id": "671911bb",
   "metadata": {},
   "source": [
    "# 6. p · q and q · p (dot products)\n"
   ]
  },
  {
   "cell_type": "code",
   "execution_count": 67,
   "id": "dba103b8",
   "metadata": {},
   "outputs": [
    {
     "name": "stdout",
     "output_type": "stream",
     "text": [
      "17\n",
      "17\n"
     ]
    }
   ],
   "source": [
    "dot_pq = np.dot(p.T, q)[0, 0]\n",
    "dot_qp = np.dot(q.T, p)[0, 0]\n",
    "print( dot_pq)\n",
    "print( dot_qp)\n"
   ]
  },
  {
   "cell_type": "markdown",
   "id": "69968964",
   "metadata": {},
   "source": [
    "# 7. p · q using the angle between p and q\n"
   ]
  },
  {
   "cell_type": "code",
   "execution_count": 68,
   "id": "6e669151",
   "metadata": {
    "scrolled": true
   },
   "outputs": [
    {
     "name": "stdout",
     "output_type": "stream",
     "text": [
      "17.0\n"
     ]
    }
   ],
   "source": [
    "dot_from_angle = np.linalg.norm(p) * np.linalg.norm(q) * np.cos(np.radians(angle_pq))\n",
    "print( dot_from_angle)"
   ]
  },
  {
   "cell_type": "markdown",
   "id": "d14611a0",
   "metadata": {},
   "source": [
    "# 8. Scalar projection of q onto p-hat\n"
   ]
  },
  {
   "cell_type": "code",
   "execution_count": 69,
   "id": "ce60489a",
   "metadata": {},
   "outputs": [
    {
     "name": "stdout",
     "output_type": "stream",
     "text": [
      "3.709704134011871\n"
     ]
    }
   ],
   "source": [
    "scalar_proj = np.dot(q.T, p_hat)[0, 0]\n",
    "print( scalar_proj)"
   ]
  },
  {
   "cell_type": "markdown",
   "id": "b8f0d133",
   "metadata": {},
   "source": [
    "# 9. A vector that is perpendicular to p\n"
   ]
  },
  {
   "cell_type": "code",
   "execution_count": 70,
   "id": "6accb85f",
   "metadata": {},
   "outputs": [
    {
     "name": "stdout",
     "output_type": "stream",
     "text": [
      "[-17 -10   6]\n"
     ]
    }
   ],
   "source": [
    "perpendicular_vector = np.cross(p.flatten(), q.flatten())\n",
    "print( perpendicular_vector)"
   ]
  },
  {
   "cell_type": "markdown",
   "id": "3c46f16e",
   "metadata": {},
   "source": [
    "# 10. p × q and q × p"
   ]
  },
  {
   "cell_type": "code",
   "execution_count": 71,
   "id": "011002bc",
   "metadata": {},
   "outputs": [
    {
     "name": "stdout",
     "output_type": "stream",
     "text": [
      "[-17 -10   6]\n",
      "[17 10 -6]\n"
     ]
    }
   ],
   "source": [
    "cross_pq = np.cross(p.flatten(), q.flatten())\n",
    "cross_qp = np.cross(q.flatten(), p.flatten())\n",
    "print( cross_pq)\n",
    "print( cross_qp)"
   ]
  },
  {
   "cell_type": "markdown",
   "id": "4d90e39a",
   "metadata": {},
   "source": [
    "# 11. A vector that is perpendicular to both p and q\n"
   ]
  },
  {
   "cell_type": "code",
   "execution_count": 72,
   "id": "2a9d9b72",
   "metadata": {},
   "outputs": [
    {
     "name": "stdout",
     "output_type": "stream",
     "text": [
      "[-17 -10   6]\n"
     ]
    }
   ],
   "source": [
    "perpendicular_to_pq = np.cross(p.flatten(), q.flatten())\n",
    "print( perpendicular_to_pq)"
   ]
  },
  {
   "cell_type": "markdown",
   "id": "e354325d",
   "metadata": {},
   "source": [
    "# 12. Linear dependency between p, q, and r\n"
   ]
  },
  {
   "cell_type": "code",
   "execution_count": 73,
   "id": "ebf9ec8b",
   "metadata": {},
   "outputs": [
    {
     "name": "stdout",
     "output_type": "stream",
     "text": [
      "Determinant: 15.0\n",
      "Linear Dependence: False\n"
     ]
    }
   ],
   "source": [
    "matrix_pqr = np.column_stack((p, q, r))\n",
    "determinant_pqr = np.linalg.det(matrix_pqr)\n",
    "linear_dependency = np.isclose(determinant_pqr, 0)\n",
    "print(f\"Determinant: {determinant_pqr}\")\n",
    "print(f\"Linear Dependence: {linear_dependency}\")"
   ]
  },
  {
   "cell_type": "markdown",
   "id": "879cc9b6",
   "metadata": {},
   "source": [
    "# 13. pᵀq and pqᵀ"
   ]
  },
  {
   "cell_type": "code",
   "execution_count": 74,
   "id": "007ba16b",
   "metadata": {},
   "outputs": [
    {
     "name": "stdout",
     "output_type": "stream",
     "text": [
      "[[17]]\n",
      "[[ 0  6 10]\n",
      " [ 0 -3 -5]\n",
      " [ 0 12 20]]\n"
     ]
    }
   ],
   "source": [
    "pTq = np.dot(p.T, q)\n",
    "pqT = np.dot(p, q.T)\n",
    "print( pTq)\n",
    "print( pqT)"
   ]
  },
  {
   "cell_type": "code",
   "execution_count": null,
   "id": "1a514f03",
   "metadata": {},
   "outputs": [],
   "source": []
  }
 ],
 "metadata": {
  "kernelspec": {
   "display_name": "Python 3 (ipykernel)",
   "language": "python",
   "name": "python3"
  },
  "language_info": {
   "codemirror_mode": {
    "name": "ipython",
    "version": 3
   },
   "file_extension": ".py",
   "mimetype": "text/x-python",
   "name": "python",
   "nbconvert_exporter": "python",
   "pygments_lexer": "ipython3",
   "version": "3.11.5"
  }
 },
 "nbformat": 4,
 "nbformat_minor": 5
}
