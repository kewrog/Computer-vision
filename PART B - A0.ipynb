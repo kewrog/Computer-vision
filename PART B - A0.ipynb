{
 "cells": [
  {
   "cell_type": "markdown",
   "id": "94615870",
   "metadata": {},
   "source": [
    "# Name: roger kewin samson\n",
    "# Hawk ID : A20563057\n",
    "# Course : CS512\n",
    "# semester : 4th semester"
   ]
  },
  {
   "cell_type": "code",
   "execution_count": 19,
   "id": "9c04894b",
   "metadata": {},
   "outputs": [],
   "source": [
    "import numpy as np"
   ]
  },
  {
   "cell_type": "code",
   "execution_count": 20,
   "id": "f8b7548f",
   "metadata": {},
   "outputs": [],
   "source": [
    "X = np.array([[2, 1, 0], [-1, 3, 4], [3, 2, -2]])\n",
    "Y = np.array([[4, -1, 2], [3, 0, -3], [1, 2, 1]])\n",
    "Z = np.array([[2, 0, -1], [1, 4, 5], [3, 1, 2]])\n",
    "s = np.array([[-1], [4], [0]])\n"
   ]
  },
  {
   "cell_type": "markdown",
   "id": "6d94c35c",
   "metadata": {},
   "source": [
    "# 1. X + 2Y\n"
   ]
  },
  {
   "cell_type": "code",
   "execution_count": 21,
   "id": "6a7bef91",
   "metadata": {},
   "outputs": [
    {
     "name": "stdout",
     "output_type": "stream",
     "text": [
      "X + 2Y:\n",
      " [[10 -1  4]\n",
      " [ 5  3 -2]\n",
      " [ 5  6  0]]\n"
     ]
    }
   ],
   "source": [
    "result_1 = X + 2 * Y\n",
    "print(\"X + 2Y:\\n\", result_1)"
   ]
  },
  {
   "cell_type": "markdown",
   "id": "3f61d312",
   "metadata": {},
   "source": [
    "# 2. XY and YX"
   ]
  },
  {
   "cell_type": "code",
   "execution_count": 22,
   "id": "e021268d",
   "metadata": {},
   "outputs": [
    {
     "name": "stdout",
     "output_type": "stream",
     "text": [
      "XY:\n",
      " [[11 -2  1]\n",
      " [ 9  9 -7]\n",
      " [16 -7 -2]]\n",
      "   YX:\n",
      " [[15  5 -8]\n",
      " [-3 -3  6]\n",
      " [ 3  9  6]]\n"
     ]
    }
   ],
   "source": [
    "result_2_XY = np.dot(X, Y)\n",
    "result_2_YX = np.dot(Y, X)\n",
    "print(\"XY:\\n\", result_2_XY)\n",
    "print(\"   YX:\\n\", result_2_YX)"
   ]
  },
  {
   "cell_type": "markdown",
   "id": "4fbf3769",
   "metadata": {},
   "source": [
    "# 3. (XY)^T and Y^T X^T"
   ]
  },
  {
   "cell_type": "code",
   "execution_count": 23,
   "id": "3ec763d7",
   "metadata": {},
   "outputs": [
    {
     "name": "stdout",
     "output_type": "stream",
     "text": [
      "(XY)^T:\n",
      " [[11  9 16]\n",
      " [-2  9 -7]\n",
      " [ 1 -7 -2]]\n",
      "   Y^T X^T:\n",
      " [[11  9 16]\n",
      " [-2  9 -7]\n",
      " [ 1 -7 -2]]\n"
     ]
    }
   ],
   "source": [
    "result_3_XY_T = result_2_XY.T\n",
    "result_3_YT_XT = np.dot(Y.T, X.T)\n",
    "print(\"(XY)^T:\\n\", result_3_XY_T)\n",
    "print(\"   Y^T X^T:\\n\", result_3_YT_XT)"
   ]
  },
  {
   "cell_type": "markdown",
   "id": "f85f113a",
   "metadata": {},
   "source": [
    "# 4. Determinants |X| and |Z|"
   ]
  },
  {
   "cell_type": "code",
   "execution_count": 24,
   "id": "bfacda09",
   "metadata": {},
   "outputs": [
    {
     "name": "stdout",
     "output_type": "stream",
     "text": [
      " Determinant of X: -17.999999999999996\n",
      "   Determinant of Z: 17.0\n"
     ]
    }
   ],
   "source": [
    "det_X = np.linalg.det(X)\n",
    "det_Z = np.linalg.det(Z)\n",
    "print(\" Determinant of X:\", det_X)\n",
    "print(\"   Determinant of Z:\", det_Z)"
   ]
  },
  {
   "cell_type": "markdown",
   "id": "65c96785",
   "metadata": {},
   "source": [
    "# 5. Finding the matrix with orthogonal row vectors"
   ]
  },
  {
   "cell_type": "code",
   "execution_count": 25,
   "id": "ebbc6e9b",
   "metadata": {},
   "outputs": [
    {
     "name": "stdout",
     "output_type": "stream",
     "text": [
      "The matrix with orthogonal row vectors: None\n"
     ]
    }
   ],
   "source": [
    "def is_orthogonal(matrix):\n",
    "    row_dot_products = np.dot(matrix, matrix.T)\n",
    "    identity = np.eye(matrix.shape[0])\n",
    "    return np.allclose(row_dot_products, identity * np.linalg.norm(matrix, axis=1)**2)\n",
    "\n",
    "orthogonal_matrix = \"None\"\n",
    "if is_orthogonal(X):\n",
    "    orthogonal_matrix = \"X\"\n",
    "elif is_orthogonal(Y):\n",
    "    orthogonal_matrix = \"Y\"\n",
    "elif is_orthogonal(Z):\n",
    "    orthogonal_matrix = \"Z\"\n",
    "\n",
    "print(\"The matrix with orthogonal row vectors:\", orthogonal_matrix)"
   ]
  },
  {
   "cell_type": "markdown",
   "id": "9a363ddc",
   "metadata": {},
   "source": [
    "# 6. X⁻¹ and Y⁻¹"
   ]
  },
  {
   "cell_type": "code",
   "execution_count": 26,
   "id": "2410bba5",
   "metadata": {},
   "outputs": [
    {
     "name": "stdout",
     "output_type": "stream",
     "text": [
      " X⁻¹:\n",
      " [[ 0.77777778 -0.11111111 -0.22222222]\n",
      " [-0.55555556  0.22222222  0.44444444]\n",
      " [ 0.61111111  0.05555556 -0.38888889]]\n",
      "   Y⁻¹:\n",
      " [[ 0.14285714  0.11904762  0.07142857]\n",
      " [-0.14285714  0.04761905  0.42857143]\n",
      " [ 0.14285714 -0.21428571  0.07142857]]\n"
     ]
    }
   ],
   "source": [
    "try:\n",
    "    X_inv = np.linalg.inv(X)\n",
    "    print(\" X⁻¹:\\n\", X_inv)\n",
    "except np.linalg.LinAlgError:\n",
    "    print(\" X⁻¹ does not exist (singular matrix).\")\n",
    "\n",
    "try:\n",
    "    Y_inv = np.linalg.inv(Y)\n",
    "    print(\"   Y⁻¹:\\n\", Y_inv)\n",
    "except np.linalg.LinAlgError:\n",
    "    print(\"   Y⁻¹ does not exist (singular matrix).\")\n"
   ]
  },
  {
   "cell_type": "markdown",
   "id": "984ccbc8",
   "metadata": {},
   "source": [
    "# 7. Z⁻¹"
   ]
  },
  {
   "cell_type": "code",
   "execution_count": 27,
   "id": "5db24704",
   "metadata": {},
   "outputs": [
    {
     "name": "stdout",
     "output_type": "stream",
     "text": [
      "Z⁻¹:\n",
      " [[ 0.17647059 -0.05882353  0.23529412]\n",
      " [ 0.76470588  0.41176471 -0.64705882]\n",
      " [-0.64705882 -0.11764706  0.47058824]]\n"
     ]
    }
   ],
   "source": [
    "try:\n",
    "    Z_inv = np.linalg.inv(Z)\n",
    "    print(\"Z⁻¹:\\n\", Z_inv)\n",
    "except np.linalg.LinAlgError:\n",
    "    print(\" Z⁻¹ does not exist (singular matrix).\")\n"
   ]
  },
  {
   "cell_type": "markdown",
   "id": "59e9e449",
   "metadata": {},
   "source": [
    "# 8. Product Xs"
   ]
  },
  {
   "cell_type": "code",
   "execution_count": 13,
   "id": "addee3f9",
   "metadata": {
    "scrolled": true
   },
   "outputs": [
    {
     "name": "stdout",
     "output_type": "stream",
     "text": [
      "8. Xs:\n",
      " [[ 2]\n",
      " [13]\n",
      " [ 5]]\n"
     ]
    }
   ],
   "source": [
    "result_8 = np.dot(X, s)\n",
    "print(result_8)"
   ]
  },
  {
   "cell_type": "markdown",
   "id": "1b275856",
   "metadata": {},
   "source": [
    "# 9. Scalar projection of rows of X onto s (normalized)"
   ]
  },
  {
   "cell_type": "code",
   "execution_count": 28,
   "id": "74e6bc40",
   "metadata": {
    "scrolled": true
   },
   "outputs": [
    {
     "name": "stdout",
     "output_type": "stream",
     "text": [
      "[[0.48507125]\n",
      " [3.15296313]\n",
      " [1.21267813]]\n"
     ]
    }
   ],
   "source": [
    "s_norm = s / np.linalg.norm(s)\n",
    "scalar_proj = np.dot(X, s_norm)\n",
    "print(scalar_proj)"
   ]
  },
  {
   "cell_type": "markdown",
   "id": "f8a37f9b",
   "metadata": {},
   "source": [
    "# 10. Vector projection of rows of X onto s (normalized)"
   ]
  },
  {
   "cell_type": "code",
   "execution_count": 29,
   "id": "47a3104d",
   "metadata": {},
   "outputs": [
    {
     "name": "stdout",
     "output_type": "stream",
     "text": [
      "[[-0.11764706  0.47058824  0.        ]\n",
      " [-0.76470588  3.05882353  0.        ]\n",
      " [-0.29411765  1.17647059  0.        ]]\n"
     ]
    }
   ],
   "source": [
    "vector_proj = np.dot(s_norm, s_norm.T) @ X.T\n",
    "print(vector_proj.T)"
   ]
  },
  {
   "cell_type": "markdown",
   "id": "25e3308d",
   "metadata": {},
   "source": [
    "# 11. Linear combination of X columns using s elements"
   ]
  },
  {
   "cell_type": "code",
   "execution_count": 30,
   "id": "92514199",
   "metadata": {},
   "outputs": [
    {
     "name": "stdout",
     "output_type": "stream",
     "text": [
      "[[ 2]\n",
      " [13]\n",
      " [ 5]]\n"
     ]
    }
   ],
   "source": [
    "linear_combination = X @ s\n",
    "print(linear_combination)\n"
   ]
  },
  {
   "cell_type": "markdown",
   "id": "b9ffde0d",
   "metadata": {},
   "source": [
    "# 12. Solution for Yt = s"
   ]
  },
  {
   "cell_type": "code",
   "execution_count": 31,
   "id": "d9d81060",
   "metadata": {},
   "outputs": [
    {
     "name": "stdout",
     "output_type": "stream",
     "text": [
      "[[ 0.33333333]\n",
      " [ 0.33333333]\n",
      " [-1.        ]]\n"
     ]
    }
   ],
   "source": [
    "try:\n",
    "    t_Y = np.linalg.solve(Y, s)\n",
    "    print(t_Y)\n",
    "except np.linalg.LinAlgError:\n",
    "    print(\" No unique solution for Yt = s.\")"
   ]
  },
  {
   "cell_type": "markdown",
   "id": "bfa8aa55",
   "metadata": {},
   "source": [
    "# 13. Solution for Zt = s and the reason\n"
   ]
  },
  {
   "cell_type": "code",
   "execution_count": 32,
   "id": "49f3d7bd",
   "metadata": {},
   "outputs": [
    {
     "name": "stdout",
     "output_type": "stream",
     "text": [
      " Solution for Zt = s:\n",
      " [[-0.41176471]\n",
      " [ 0.88235294]\n",
      " [ 0.17647059]]\n"
     ]
    }
   ],
   "source": [
    "try:\n",
    "    t_Z = np.linalg.solve(Z, s)\n",
    "    print(\" Solution for Zt = s:\\n\", t_Z)\n",
    "except np.linalg.LinAlgError:\n",
    "    print(\" No unique solution for Zt = s because Z is singular.\")"
   ]
  }
 ],
 "metadata": {
  "kernelspec": {
   "display_name": "Python 3 (ipykernel)",
   "language": "python",
   "name": "python3"
  },
  "language_info": {
   "codemirror_mode": {
    "name": "ipython",
    "version": 3
   },
   "file_extension": ".py",
   "mimetype": "text/x-python",
   "name": "python",
   "nbconvert_exporter": "python",
   "pygments_lexer": "ipython3",
   "version": "3.11.5"
  }
 },
 "nbformat": 4,
 "nbformat_minor": 5
}
