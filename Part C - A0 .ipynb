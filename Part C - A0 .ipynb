{
 "cells": [
  {
   "cell_type": "markdown",
   "id": "519f55dc",
   "metadata": {},
   "source": [
    "# Name: roger kewin samson\n",
    "# Hawk ID : A20563057\n",
    "# Course : CS512\n",
    "# semester : 4th semester"
   ]
  },
  {
   "cell_type": "code",
   "execution_count": 13,
   "id": "535c1fc8",
   "metadata": {},
   "outputs": [],
   "source": [
    "import numpy as np\n"
   ]
  },
  {
   "cell_type": "code",
   "execution_count": 14,
   "id": "abbced59",
   "metadata": {},
   "outputs": [],
   "source": [
    "M = np.array([[3, 2], [-1, 4]])\n",
    "N = np.array([[5, -3], [-3, 6]])\n",
    "P = np.array([[2, 4], [4, 8]])"
   ]
  },
  {
   "cell_type": "markdown",
   "id": "79f76097",
   "metadata": {},
   "source": [
    "# 1. Eigenvalues and corresponding eigenvectors of M"
   ]
  },
  {
   "cell_type": "code",
   "execution_count": 15,
   "id": "196abbbf",
   "metadata": {},
   "outputs": [
    {
     "name": "stdout",
     "output_type": "stream",
     "text": [
      "Eigenvalues of M: [3.5+1.32287566j 3.5-1.32287566j]\n",
      "   Eigenvectors of M:\n",
      " [[0.81649658+0.j         0.81649658-0.j        ]\n",
      " [0.20412415+0.54006172j 0.20412415-0.54006172j]]\n"
     ]
    }
   ],
   "source": [
    "eigenvalues_M, eigenvectors_M = np.linalg.eig(M)\n",
    "print(\"Eigenvalues of M:\", eigenvalues_M)\n",
    "print(\"   Eigenvectors of M:\\n\", eigenvectors_M)"
   ]
  },
  {
   "cell_type": "markdown",
   "id": "e8768743",
   "metadata": {},
   "source": [
    "# 2. Dot product between the eigenvectors of M"
   ]
  },
  {
   "cell_type": "code",
   "execution_count": 16,
   "id": "cd096db1",
   "metadata": {},
   "outputs": [
    {
     "name": "stdout",
     "output_type": "stream",
     "text": [
      "Dot product between eigenvectors of M: (1.0000000000000002+4.192161646516003e-18j)\n"
     ]
    }
   ],
   "source": [
    "dot_product_M = np.dot(eigenvectors_M[:, 0], eigenvectors_M[:, 1])\n",
    "print(\"Dot product between eigenvectors of M:\", dot_product_M)"
   ]
  },
  {
   "cell_type": "markdown",
   "id": "abe8be7b",
   "metadata": {},
   "source": [
    "# 3. Eigenvalues and eigenvectors of N"
   ]
  },
  {
   "cell_type": "code",
   "execution_count": 17,
   "id": "69048348",
   "metadata": {},
   "outputs": [
    {
     "name": "stdout",
     "output_type": "stream",
     "text": [
      "Dot product between eigenvectors of N: 0.0\n"
     ]
    }
   ],
   "source": [
    "eigenvalues_N, eigenvectors_N = np.linalg.eig(N)\n",
    "dot_product_N = np.dot(eigenvectors_N[:, 0], eigenvectors_N[:, 1])\n",
    "print(\"Dot product between eigenvectors of N:\", dot_product_N)"
   ]
  },
  {
   "cell_type": "markdown",
   "id": "90388729",
   "metadata": {},
   "source": [
    "# 4. Property of the eigenvectors of N and the reason for it"
   ]
  },
  {
   "cell_type": "code",
   "execution_count": 18,
   "id": "1de11b5c",
   "metadata": {},
   "outputs": [
    {
     "name": "stdout",
     "output_type": "stream",
     "text": [
      "The eigenvectors of N are orthogonal because N is a symmetric matrix.\n"
     ]
    }
   ],
   "source": [
    "# Since N is a symmetric matrix, its eigenvectors are orthogonal\n",
    "print(\"The eigenvectors of N are orthogonal because N is a symmetric matrix.\")"
   ]
  },
  {
   "cell_type": "markdown",
   "id": "6a4dca7a",
   "metadata": {},
   "source": [
    "# 5. The value of a trivial solution t to the equation Pt = 0"
   ]
  },
  {
   "cell_type": "code",
   "execution_count": 19,
   "id": "f6d20959",
   "metadata": {},
   "outputs": [
    {
     "name": "stdout",
     "output_type": "stream",
     "text": [
      "Trivial solution t to Pt = 0:\n",
      " [[0]\n",
      " [0]]\n"
     ]
    }
   ],
   "source": [
    "trivial_solution = np.array([[0], [0]])\n",
    "print(\"Trivial solution t to Pt = 0:\\n\", trivial_solution)"
   ]
  },
  {
   "cell_type": "markdown",
   "id": "eb0e1452",
   "metadata": {},
   "source": [
    "# 6. The value of two non-trivial solutions to Pt = 0"
   ]
  },
  {
   "cell_type": "code",
   "execution_count": 20,
   "id": "6d1da261",
   "metadata": {},
   "outputs": [
    {
     "name": "stdout",
     "output_type": "stream",
     "text": [
      "Non-trivial answer t1 for Pt=0: [-2  1]\n",
      "Non-trivial answer t2 for Pt=0: [ 2 -1]\n"
     ]
    }
   ],
   "source": [
    "non_trivial_answer_1 = np.array([-2, 1])\n",
    "non_trivial_answer_2 = np.array([2, -1])\n",
    "print(\"Non-trivial answer t1 for Pt=0:\", non_trivial_answer_1)\n",
    "print(\"Non-trivial answer t2 for Pt=0:\", non_trivial_answer_2)"
   ]
  },
  {
   "cell_type": "markdown",
   "id": "47b870fa",
   "metadata": {},
   "source": [
    "# 7. The only solution to Mt = 0 and the reason"
   ]
  },
  {
   "cell_type": "code",
   "execution_count": 21,
   "id": "c51e9d90",
   "metadata": {},
   "outputs": [
    {
     "name": "stdout",
     "output_type": "stream",
     "text": [
      "The only solution t for Mt=0: [0. 0.]\n"
     ]
    }
   ],
   "source": [
    "only_solution = np.linalg.solve(M, np.array([0, 0]))\n",
    "print(\"The only solution t for Mt=0:\", only_solution)"
   ]
  }
 ],
 "metadata": {
  "kernelspec": {
   "display_name": "Python 3 (ipykernel)",
   "language": "python",
   "name": "python3"
  },
  "language_info": {
   "codemirror_mode": {
    "name": "ipython",
    "version": 3
   },
   "file_extension": ".py",
   "mimetype": "text/x-python",
   "name": "python",
   "nbconvert_exporter": "python",
   "pygments_lexer": "ipython3",
   "version": "3.11.5"
  }
 },
 "nbformat": 4,
 "nbformat_minor": 5
}
