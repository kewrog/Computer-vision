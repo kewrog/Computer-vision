{
 "cells": [
  {
   "cell_type": "markdown",
   "id": "7d933a2e",
   "metadata": {},
   "source": [
    "# Name: roger kewin samson\n",
    "# Hawk ID : A20563057\n",
    "# Course : CS512\n",
    "# semester : 4th semester"
   ]
  },
  {
   "cell_type": "code",
   "execution_count": 7,
   "id": "b0bb7c49",
   "metadata": {},
   "outputs": [],
   "source": [
    "import numpy as np\n"
   ]
  },
  {
   "cell_type": "markdown",
   "id": "fdacafea",
   "metadata": {},
   "source": [
    "# 1. Compute the output of the neuron before applying activation function"
   ]
  },
  {
   "cell_type": "code",
   "execution_count": 8,
   "id": "4883fe7e",
   "metadata": {},
   "outputs": [
    {
     "name": "stdout",
     "output_type": "stream",
     "text": [
      "Neuron output before activation: 1.15\n"
     ]
    }
   ],
   "source": [
    "x = np.array([0.5, -0.8, 0.3])  # Input values\n",
    "w = np.array([0.4, -0.6, 0.9])  # Weights\n",
    "b = 0.2  # Bias\n",
    "\n",
    "# Calculate neuron output (without activation)\n",
    "neuron_output = np.dot(w, x) + b\n",
    "print(\"Neuron output before activation:\", neuron_output)"
   ]
  },
  {
   "cell_type": "markdown",
   "id": "b17cf787",
   "metadata": {},
   "source": [
    "# 2. Apply sigmoid activation function"
   ]
  },
  {
   "cell_type": "code",
   "execution_count": 9,
   "id": "34d7bf01",
   "metadata": {},
   "outputs": [
    {
     "name": "stdout",
     "output_type": "stream",
     "text": [
      "Output after sigmoid activation: 0.759510916949111\n"
     ]
    }
   ],
   "source": [
    "def sigmoid(z):\n",
    "    return 1 / (1 + np.exp(-z))\n",
    "\n",
    "sigmoid_output = sigmoid(neuron_output)\n",
    "print(\"Output after sigmoid activation:\", sigmoid_output)"
   ]
  },
  {
   "cell_type": "markdown",
   "id": "d4340403",
   "metadata": {},
   "source": [
    "# 3. Apply ReLU activation function"
   ]
  },
  {
   "cell_type": "code",
   "execution_count": 10,
   "id": "9f094c0e",
   "metadata": {},
   "outputs": [
    {
     "name": "stdout",
     "output_type": "stream",
     "text": [
      "Output after ReLU activation: 1.15\n"
     ]
    }
   ],
   "source": [
    "def relu(z):\n",
    "    return np.maximum(0, z)\n",
    "\n",
    "relu_output = relu(neuron_output)\n",
    "print(\"Output after ReLU activation:\", relu_output)"
   ]
  },
  {
   "cell_type": "markdown",
   "id": "50aa6a0c",
   "metadata": {},
   "source": [
    "# 4. Compute output of neural network layer using ReLU activation"
   ]
  },
  {
   "cell_type": "code",
   "execution_count": 11,
   "id": "387e6d70",
   "metadata": {},
   "outputs": [
    {
     "name": "stdout",
     "output_type": "stream",
     "text": [
      "Hidden layer output after ReLU activation:\n",
      " [[1.1]\n",
      " [1.5]]\n"
     ]
    }
   ],
   "source": [
    "W_h = np.array([[0.4, 0.3], [0.2, 0.7]])  # Hidden layer weights\n",
    "b_h = np.array([[0.1], [-0.1]])  # Biases for hidden layer\n",
    "x_h = np.array([[1], [2]])  # Input to hidden layer\n",
    "\n",
    "# Calculate hidden layer output\n",
    "hidden_layer_output = np.dot(W_h, x_h) + b_h\n",
    "relu_hidden_output = relu(hidden_layer_output)\n",
    "print(\"Hidden layer output after ReLU activation:\\n\", relu_hidden_output)"
   ]
  },
  {
   "cell_type": "markdown",
   "id": "b2041ec8",
   "metadata": {},
   "source": [
    "# 5. Compute output using sigmoid activation for output layer"
   ]
  },
  {
   "cell_type": "code",
   "execution_count": 12,
   "id": "f91f4a22",
   "metadata": {},
   "outputs": [
    {
     "name": "stdout",
     "output_type": "stream",
     "text": [
      "Final output after sigmoid activation: [0.549834]\n"
     ]
    }
   ],
   "source": [
    "W_o = np.array([0.5, -0.3])  # Output layer weights\n",
    "b_o = np.array([0.1]) \n",
    "output_layer_input = np.dot(W_o, relu_hidden_output) + b_o\n",
    "sigmoid_output_layer = sigmoid(output_layer_input)\n",
    "print(\"Final output after sigmoid activation:\", sigmoid_output_layer)"
   ]
  },
  {
   "cell_type": "code",
   "execution_count": null,
   "id": "32f09a68",
   "metadata": {},
   "outputs": [],
   "source": []
  }
 ],
 "metadata": {
  "kernelspec": {
   "display_name": "Python 3 (ipykernel)",
   "language": "python",
   "name": "python3"
  },
  "language_info": {
   "codemirror_mode": {
    "name": "ipython",
    "version": 3
   },
   "file_extension": ".py",
   "mimetype": "text/x-python",
   "name": "python",
   "nbconvert_exporter": "python",
   "pygments_lexer": "ipython3",
   "version": "3.11.5"
  }
 },
 "nbformat": 4,
 "nbformat_minor": 5
}
